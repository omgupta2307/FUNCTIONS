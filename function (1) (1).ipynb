{
 "cells": [
  {
   "cell_type": "markdown",
   "id": "e8603cd5-8cba-4e9d-98d7-0298eb911862",
   "metadata": {},
   "source": [
    "                                                   Theory Question \n",
    "                                                  ___________________\n",
    "Q1.What is the difference between a function and a method in Python?\n",

    "ANS:- In Python , function and python both are used to perform actions, but there is a key difference in how they are used:\n",
    "      Function :- Function is a block of code which perform some specific task ."
   ]
  },
  {
   "cell_type": "code",
   "execution_count": 852,
   "id": "bfee4da9-34db-4c88-871d-c2eb1d707134",
   "metadata": {},
   "outputs": [],
   "source": [
    "#Example\n",
    "def greetings(name):\n",
    "    print(\"Welcome to the office\" , name)"
   ]
  },
  {
   "cell_type": "code",
   "execution_count": 853,
   "id": "483ad4c3-9d60-41bb-aaaa-25396d7abbf1",
   "metadata": {},
   "outputs": [
    {
     "name": "stdout",
     "output_type": "stream",
     "text": [
      "Welcome to the office Om\n"
     ]
    }
   ],
   "source": [
    "greetings(\"Om\")"
   ]
  },
  {
   "cell_type": "raw",
   "id": "2d79b7ff-53b5-4ba8-8982-2bd20f19530a",
   "metadata": {},
   "source": [
    "  Method:- A method is a function that is associated with an object.\n",
    "           - It is called using dot(.)"
   ]
  },
  {
   "cell_type": "code",
   "execution_count": 854,
   "id": "821d60e6-57b6-4497-a529-6fd500fe819a",
   "metadata": {},
   "outputs": [],
   "source": [
    "class person:\n",
    "    def greet(self , name):\n",
    "        return f\"Hello, {name}!\""
   ]
  },
  {
   "cell_type": "code",
   "execution_count": 855,
   "id": "b93e808d-9805-48b6-bf09-f21be2bd7647",
   "metadata": {},
   "outputs": [
    {
     "name": "stdout",
     "output_type": "stream",
     "text": [
      "Hello, Om!\n"
     ]
    }
   ],
   "source": [
    "p = person()\n",
    "print(p.greet(\"Om\"))"
   ]
  },
  {
   "cell_type": "markdown",
   "id": "e8fce47e-4259-45ef-9563-f01b0ed02890",
   "metadata": {},
   "source": [
    "Q2.Explain the concept of function arguments and parameters in Python?\n",
    "ANS:- Parameters :- A parameter is a variable used inside a function definition."
   ]
  },
  {
   "cell_type": "code",
   "execution_count": 856,
   "id": "afcf6817-d24b-49c6-8dc1-12b2e4d1c3bf",
   "metadata": {},
   "outputs": [],
   "source": [
    "def greet(name): # 'name' is a parameter\n",
    "    print(\"Hello\", name)"
   ]
  },
  {
   "cell_type": "code",
   "execution_count": 857,
   "id": "a571a8f5-f668-43f1-9142-5d048eed9166",
   "metadata": {},
   "outputs": [
    {
     "name": "stdout",
     "output_type": "stream",
     "text": [
      "Hello Om\n"
     ]
    }
   ],
   "source": [
    "greet(\"Om\")"
   ]
  },
  {
   "cell_type": "raw",
   "id": "1f049297-7c10-4db3-a0f1-d08745e4c1d6",
   "metadata": {},
   "source": [
    "Function Arguments :- An arguments is the actual value you pass to a function when you call it .\n",
    "                    - Its fills the parameter inside the functions."
   ]
  },
  {
   "cell_type": "code",
   "execution_count": 858,
   "id": "b572b0c1-c29a-41e4-a06e-68eab9a9a255",
   "metadata": {},
   "outputs": [],
   "source": [
    "def sub(a,b):\n",
    "    print(a-b)"
   ]
  },
  {
   "cell_type": "code",
   "execution_count": 859,
   "id": "6fbfba20-073d-44bb-82fb-b080263271ac",
   "metadata": {},
   "outputs": [
    {
     "name": "stdout",
     "output_type": "stream",
     "text": [
      "5\n"
     ]
    }
   ],
   "source": [
    "sub(10,5) # (10,5) is an arguments"
   ]
  },
  {
   "cell_type": "markdown",
   "id": "22451481-a1d4-4af9-9e8f-ff0065cb5f1d",
   "metadata": {},
   "source": [
    "Q3.What are the different ways to define and call a function in Python?\n",
    "ANS:- In python , there are different ways to call a python , depending on how you want to use it .\n",
    "1.Standard Function (def)"
   ]
  },
  {
   "cell_type": "code",
   "execution_count": 860,
   "id": "4959a557-9128-4c23-8fc0-4ca1ffb3d8fc",
   "metadata": {},
   "outputs": [],
   "source": [
    "def greet(name):\n",
    "    print(\"Hello\", name)"
   ]
  },
  {
   "cell_type": "raw",
   "id": "3e45a806-41b0-497e-9773-9c2d0ba5cf62",
   "metadata": {},
   "source": [
    "2.Function with Default Arguments"
   ]
  },
  {
   "cell_type": "raw",
   "id": "808cc6e1-2679-4014-81b7-dc30feb78e26",
   "metadata": {},
   "source": [
    "def greet( name = \"guest\"):\n",
    "    print(\"Hello\", name)"
   ]
  },
  {
   "cell_type": "raw",
   "id": "030365dd-f9b9-44ea-884e-5cde87dd022b",
   "metadata": {},
   "source": [
    "3. Function with *args"
   ]
  },
  {
   "cell_type": "code",
   "execution_count": 861,
   "id": "6b2bdd23-2e06-4ba9-9987-bed01eebd322",
   "metadata": {},
   "outputs": [],
   "source": [
    "def greet(*numbers):\n",
    "    print(sum(numbers))"
   ]
  },
  {
   "cell_type": "raw",
   "id": "97b79ee6-a2e4-4de3-ba59-5db4a7022f98",
   "metadata": {},
   "source": [
    "4. Functions with **kwargs"
   ]
  },
  {
   "cell_type": "raw",
   "id": "0c163e03-63c0-4327-8f14-e60d580e3033",
   "metadata": {},
   "source": [
    "def show_info(**info):\n",
    "    for , key value info.items():\n",
    "    print(f\"{key}: {value}\")"
   ]
  },
  {
   "cell_type": "raw",
   "id": "d3edd77e-13e6-429b-ad85-b4532ad691c6",
   "metadata": {},
   "source": [
    "5. Lambda Function"
   ]
  },
  {
   "cell_type": "code",
   "execution_count": null,
   "id": "136e8d17-0b37-4af9-b781-d20140a6487e",
   "metadata": {},
   "outputs": [],
   "source": [
    "square = lambda x: x**x\n",
    "print(sqaure(5))"
   ]
  },
  {
   "cell_type": "markdown",
   "id": "63987f19-f1db-42e5-9882-700d7ee774a6",
   "metadata": {},
   "source": [
    "Q4.What is the purpose of the `return` statement in a Python function?\n",
    "ANS:- The return statement is used to give back a value from a function.\n",
    "Example:-"
   ]
  },
  {
   "cell_type": "code",
   "execution_count": 862,
   "id": "9af2feea-2dee-49f3-a8fa-9fa316b4cab7",
   "metadata": {},
   "outputs": [],
   "source": [
    "def add(a,b):\n",
    "    return a + b"
   ]
  },
  {
   "cell_type": "code",
   "execution_count": 863,
   "id": "80d453a7-d739-433f-ad20-d1b22af19a0f",
   "metadata": {},
   "outputs": [
    {
     "name": "stdout",
     "output_type": "stream",
     "text": [
      "8\n"
     ]
    }
   ],
   "source": [
    "result = add(5 , 3 )\n",
    "print(result)"
   ]
  },
  {
   "cell_type": "markdown",
   "id": "4fe941b5-e2a2-4212-ae86-26bef93df5c9",
   "metadata": {},
   "source": [
    "Q5.What are iterators in Python and how do they differ from iterables?\n",
    "Ans:- Iterator :- An iterators is an object that representing steam of data.\n",
    "    - Return data one by  one"
   ]
  },
  {
   "cell_type": "code",
   "execution_count": 864,
   "id": "05362373-ffda-474e-b7ef-fdf434d59c9e",
   "metadata": {},
   "outputs": [
    {
     "name": "stdout",
     "output_type": "stream",
     "text": [
      "10\n"
     ]
    }
   ],
   "source": [
    "nums = [ 10, 20 , 30]\n",
    "it = iter(nums)\n",
    "print(next(it))"
   ]
  },
  {
   "cell_type": "code",
   "execution_count": 865,
   "id": "6e7e1297-f772-4508-b18e-2cecf4b5ac34",
   "metadata": {},
   "outputs": [
    {
     "name": "stdout",
     "output_type": "stream",
     "text": [
      "20\n"
     ]
    }
   ],
   "source": [
    "print(next(it))"
   ]
  },
  {
   "cell_type": "code",
   "execution_count": 866,
   "id": "b14cedcf-03eb-4a87-bc16-708d9ddcbf34",
   "metadata": {},
   "outputs": [
    {
     "name": "stdout",
     "output_type": "stream",
     "text": [
      "30\n"
     ]
    }
   ],
   "source": [
    "print(next(it))"
   ]
  },
  {
   "cell_type": "raw",
   "id": "3b1d8a77-392b-4e8a-a94b-d47ea63a0aa0",
   "metadata": {},
   "source": [
    "Iteration :- Iteration is the process of going through each item (using a loop)"
   ]
  },
  {
   "cell_type": "code",
   "execution_count": 867,
   "id": "33f683b8-8f7b-42a9-b6bc-273eef292898",
   "metadata": {},
   "outputs": [
    {
     "name": "stdout",
     "output_type": "stream",
     "text": [
      "1\n",
      "2\n",
      "3\n",
      "4\n",
      "5\n"
     ]
    }
   ],
   "source": [
    "num = [ 1,2,3,4,5]\n",
    "for i in num:\n",
    "    print(i)"
   ]
  },
  {
   "cell_type": "markdown",
   "id": "475a8b5c-cc7e-45e2-af93-818711fc2cb6",
   "metadata": {},
   "source": [
    "Q6.Explain the concept of generators in Python and how they are defined?\n",
    "ANS:- A generator is a special type of function that :\n",
    "      - Return the values one at a time(like an iterator)\n",
    "      - Save Memory\n",
    "      - Uses the yield keywords instead of return"
   ]
  },
  {
   "cell_type": "code",
   "execution_count": 907,
   "id": "d0cf4786-0b60-49e3-af06-5b685f37a371",
   "metadata": {},
   "outputs": [],
   "source": [
    "def say_hello():\n",
    "    yield \"HELLO\"\n",
    "    yield \"India\"\n",
    "    yield \"I LOVE YOU\""
   ]
  },
  {
   "cell_type": "code",
   "execution_count": 908,
   "id": "623a6880-fa08-4f11-9876-bce4666a44d4",
   "metadata": {},
   "outputs": [
    {
     "name": "stdout",
     "output_type": "stream",
     "text": [
      "HELLO\n",
      "India\n",
      "I LOVE YOU\n"
     ]
    }
   ],
   "source": [
    "for msg in say_hello():\n",
    "    print(msg)"
   ]
  },
  {
   "cell_type": "markdown",
   "id": "917966af-15f0-48a8-a05c-d5301cbfb4a2",
   "metadata": {},
   "source": [
    "Q7. What are the advantages of using generators over regular functions?\n",
    "ANS:- Advantage of Generators over Regular Functions\n",
    "1. Save Memory\n",
    "2. Faster with Big Data\n",
    "3. Can be used in loop easily\n",
    "4. Lazy Evaluation\n",
    "5. Keep code clean and simple"
   ]
  },
  {
   "cell_type": "code",
   "execution_count": 870,
   "id": "90cc8578-6293-4d14-b6e2-3427b9594899",
   "metadata": {},
   "outputs": [],
   "source": [
    "def even_num(limit):\n",
    "    for i in range(limit):\n",
    "        if i % 2 == 0:\n",
    "            yield i"
   ]
  },
  {
   "cell_type": "code",
   "execution_count": 871,
   "id": "1d92f1f6-0a7b-4790-843b-21ca638924ec",
   "metadata": {},
   "outputs": [
    {
     "name": "stdout",
     "output_type": "stream",
     "text": [
      "0\n",
      "2\n",
      "4\n",
      "6\n",
      "8\n"
     ]
    }
   ],
   "source": [
    "for num in even_num(10):\n",
    "    print(num)"
   ]
  },
  {
   "cell_type": "markdown",
   "id": "28196a76-76e1-4d05-aabb-e8e0079b7d35",
   "metadata": {},
   "source": [
    "Q8.What is a lambda function in Python and when is it typically used?\n",
    "ANS:-Lambda functions are small, anonymous functions defined using the lambda keyword. They are used for creating small, throwaway functions without the need to formally define a function using def"
   ]
  },
  {
   "cell_type": "code",
   "execution_count": 872,
   "id": "d93a15bf-e537-42eb-8075-ae62de86531f",
   "metadata": {},
   "outputs": [],
   "source": [
    "add_num= lambda a , b: a + b"
   ]
  },
  {
   "cell_type": "code",
   "execution_count": 873,
   "id": "a0bab670-e5e6-4f0b-8a22-94481166b683",
   "metadata": {},
   "outputs": [
    {
     "data": {
      "text/plain": [
       "15"
      ]
     },
     "execution_count": 873,
     "metadata": {},
     "output_type": "execute_result"
    }
   ],
   "source": [
    "add_num(5,10)"
   ]
  },
  {
   "cell_type": "markdown",
   "id": "2a01aca4-8cd7-44dc-95bc-5f6990be1e99",
   "metadata": {},
   "source": [
    "Q9. Explain the purpose and usage of the `map()` function in Python.\n",
    "ANS:- Map executes a specified function for each of item of an iterable "
   ]
  },
  {
   "cell_type": "code",
   "execution_count": 874,
   "id": "91c96bb7-bf11-4ece-93be-9d4369f7aee7",
   "metadata": {},
   "outputs": [],
   "source": [
    "num =  [1,2,3,4,5]\n",
    "def double(x):\n",
    "    return x * 2"
   ]
  },
  {
   "cell_type": "code",
   "execution_count": 875,
   "id": "8d782976-5bd1-4f00-8c6b-633c98534894",
   "metadata": {},
   "outputs": [
    {
     "name": "stdout",
     "output_type": "stream",
     "text": [
      "[2, 4, 6, 8, 10]\n"
     ]
    }
   ],
   "source": [
    "result = map(double, num)\n",
    "print(list(result))"
   ]
  },
  {
   "cell_type": "markdown",
   "id": "74073272-ae4a-408d-8f90-79ad71553a54",
   "metadata": {},
   "source": [
    "Q10. What is the difference between `map()`, `reduce()`, and `filter()` functions in Python?\n",
    "ANS:-1. map() -  Changes each item\n",
    "     2. filter()- Pick item based on condition\n",
    "     3. reduce()- Combines all into one"
   ]
  },
  {
   "cell_type": "code",
   "execution_count": 876,
   "id": "af2524ba-09e4-41a8-b46a-6174d770bb50",
   "metadata": {},
   "outputs": [],
   "source": [
    "num =  [1,2,3,4,5] #map() \n",
    "def double(x):\n",
    "    return x * 3"
   ]
  },
  {
   "cell_type": "code",
   "execution_count": 877,
   "id": "972259dd-0fbc-4f31-b989-9313ee73f881",
   "metadata": {},
   "outputs": [
    {
     "name": "stdout",
     "output_type": "stream",
     "text": [
      "[3, 6, 9, 12, 15]\n"
     ]
    }
   ],
   "source": [
    "result = map(double, num)\n",
    "print(list(result))"
   ]
  },
  {
   "cell_type": "code",
   "execution_count": 878,
   "id": "55b226d0-4146-4a7d-b50d-50a103346d1c",
   "metadata": {},
   "outputs": [
    {
     "data": {
      "text/plain": [
       "[2, 4, 4, 6, 8, 8]"
      ]
     },
     "execution_count": 878,
     "metadata": {},
     "output_type": "execute_result"
    }
   ],
   "source": [
    "l = [ 2,4,5,4,6,8,9,8] #filter()\n",
    "list(filter(lambda x: x%2==0, l))"
   ]
  },
  {
   "cell_type": "code",
   "execution_count": 879,
   "id": "28801aac-73b7-467b-af28-d25fe8ef3282",
   "metadata": {},
   "outputs": [
    {
     "data": {
      "text/plain": [
       "78"
      ]
     },
     "execution_count": 879,
     "metadata": {},
     "output_type": "execute_result"
    }
   ],
   "source": [
    "from functools import reduce #reduce()\n",
    "l = [12,2,4,55,5]\n",
    "reduce(lambda x,y : x+y,l)"
   ]
  },
  {
   "cell_type": "markdown",
   "id": "0d9e9271-eb96-44ac-b986-55a547ad8b1a",
   "metadata": {},
   "source": [
    "Q11.11. Using pen & Paper write the internal mechanism for sum operation using  reduce function on this given\n",
    "list:[47,11,42,13]?\n",
    "ANS:-"
   ]
  },
  {
   "attachments": {
    "0f8c24ff-ea63-4645-a485-9a81afa58662.jpeg": {
     "image/jpeg": "[encoded data removed]"
    }
   },
   "cell_type": "markdown",
   "id": "75559d64-a251-402d-8d4a-8ef9ea2a72aa",
   "metadata": {},
   "source": [
    "![11 ANSWER IMAGE.jpeg](attachment:0f8c24ff-ea63-4645-a485-9a81afa58662.jpeg)"
   ]
  },
  {
   "cell_type": "markdown",
   "id": "3b7dc8cc-2a0c-4f50-ab9c-ade2f4edc171",
   "metadata": {},
   "source": [
    "                                                    Practical Questions\n",
    "                                                  ------------------------\n",
    "Q1. Write a Python function that takes a list of numbers as input and returns the sum of all even numbers in\n",
    "the list.\n",
    "ANS:-"
   ]
  },
  {
   "cell_type": "code",
   "execution_count": 880,
   "id": "222cd146-aac0-45a1-8d22-7ff2a96dfbfd",
   "metadata": {},
   "outputs": [],
   "source": [
    "def sum_of_even_numbers(numbers):\n",
    "    even_sum = 0\n",
    "    for num in numbers:\n",
    "        if num % 2 == 0:\n",
    "            even_sum += num\n",
    "    return even_sum"
   ]
  },
  {
   "cell_type": "code",
   "execution_count": 881,
   "id": "0ea68c2b-a7c8-4a1f-ba53-c9b2c3d3e5a6",
   "metadata": {},
   "outputs": [
    {
     "name": "stdout",
     "output_type": "stream",
     "text": [
      "12\n"
     ]
    }
   ],
   "source": [
    "my_list = [1, 2, 3, 4, 5, 6]\n",
    "result = sum_of_even_numbers(my_list)\n",
    "print(result)"
   ]
  },
  {
   "cell_type": "markdown",
   "id": "3dacc583-bf4e-496e-8817-5ae468cc304b",
   "metadata": {},
   "source": [
    "Q2.Create a Python function that accepts a string and returns the reverse of that string.\n",
    "ANS:-"
   ]
  },
  {
   "cell_type": "code",
   "execution_count": 882,
   "id": "0c44c458-47a3-48ff-9caa-17603136a914",
   "metadata": {},
   "outputs": [],
   "source": [
    "def reverse_string(text):\n",
    "    return text[::-1]"
   ]
  },
  {
   "cell_type": "code",
   "execution_count": 883,
   "id": "adbc2414-569f-4ece-98c9-504df664efd9",
   "metadata": {},
   "outputs": [
    {
     "data": {
      "text/plain": [
       "'olleh'"
      ]
     },
     "execution_count": 883,
     "metadata": {},
     "output_type": "execute_result"
    }
   ],
   "source": [
    "reverse_string(\"hello\") "
   ]
  },
  {
   "cell_type": "markdown",
   "id": "effb36ee-2d48-4e59-b884-cf4b5841af32",
   "metadata": {},
   "source": [
    "Q3. Implement a Python function that takes a list of integers and returns a new list containing the squares of\n",
    "each number.\n",
    "ANS:-"
   ]
  },
  {
   "cell_type": "code",
   "execution_count": 884,
   "id": "1eb9c064-3412-40ae-a038-491b4d808d96",
   "metadata": {},
   "outputs": [],
   "source": [
    "def square_numbers(numbers):\n",
    "    return [num ** 2 for num in numbers]"
   ]
  },
  {
   "cell_type": "code",
   "execution_count": 885,
   "id": "de2ae978-2400-4a3a-ae73-7ef1b85f20c2",
   "metadata": {},
   "outputs": [
    {
     "data": {
      "text/plain": [
       "[25, 16, 9, 4, 1]"
      ]
     },
     "execution_count": 885,
     "metadata": {},
     "output_type": "execute_result"
    }
   ],
   "source": [
    "square_numbers([5,4,3,2,1])"
   ]
  },
  {
   "cell_type": "markdown",
   "id": "85a5ec40-18ec-4b85-9544-dbe0e138beae",
   "metadata": {},
   "source": [
    "Q4.Write a Python function that checks if a given number is prime or not from 1 to 200.\n",
    "ANS:-"
   ]
  },
  {
   "cell_type": "code",
   "execution_count": 886,
   "id": "1754a0f2-92f1-47af-8062-de1685f56c5c",
   "metadata": {},
   "outputs": [],
   "source": [
    "def is_prime(n):\n",
    "    if n < 2 or n > 200:\n",
    "        return False  # Not in the valid range or not prime\n",
    "    for i in range(2, int(n ** 0.5) + 1):\n",
    "        if n % i == 0:\n",
    "            return False\n",
    "    return True"
   ]
  },
  {
   "cell_type": "code",
   "execution_count": 887,
   "id": "5265ddfc-e3de-486e-9a4f-9f4b86ad3774",
   "metadata": {},
   "outputs": [
    {
     "name": "stdout",
     "output_type": "stream",
     "text": [
      "True\n",
      "False\n",
      "True\n",
      "False\n"
     ]
    }
   ],
   "source": [
    "print(is_prime(7))     # Output: True\n",
    "print(is_prime(100))   # Output: False\n",
    "print(is_prime(199))   # Output: True\n",
    "print(is_prime(201)) "
   ]
  },
  {
   "cell_type": "markdown",
   "id": "e68bcc64-237f-4840-aec6-47f2c49bd56d",
   "metadata": {},
   "source": [
    "Q5.Create an iterator class in Python that generates the Fibonacci sequence up to a specified number of\n",
    "terms.\n",
    "ANS:-"
   ]
  },
  {
   "cell_type": "code",
   "execution_count": 888,
   "id": "42efeb07-40f2-495a-b449-831b92de4bf7",
   "metadata": {},
   "outputs": [],
   "source": [
    "class FibonacciIterator:\n",
    "    def __init__(self, max_terms):\n",
    "        self.max_terms = max_terms\n",
    "        self.count = 0\n",
    "        self.a, self.b = 0, 1\n",
    "\n",
    "    def __iter__(self):\n",
    "        return self\n",
    "\n",
    "    def __next__(self):\n",
    "        if self.count >= self.max_terms:\n",
    "            raise StopIteration\n",
    "        if self.count == 0:\n",
    "            self.count += 1\n",
    "            return 0\n",
    "        elif self.count == 1:\n",
    "            self.count += 1\n",
    "            return 1\n",
    "        else:\n",
    "            self.a, self.b = self.b, self.a + self.b\n",
    "            self.count += 1\n",
    "            return self.a"
   ]
  },
  {
   "cell_type": "code",
   "execution_count": 889,
   "id": "04c39412-1532-4fef-948c-93e12486de15",
   "metadata": {},
   "outputs": [
    {
     "name": "stdout",
     "output_type": "stream",
     "text": [
      "0 1 1 1 2 3 5 8 13 21 "
     ]
    }
   ],
   "source": [
    "fib = FibonacciIterator(10)\n",
    "for num in fib:\n",
    "    print(num, end=\" \")"
   ]
  },
  {
   "cell_type": "markdown",
   "id": "c9fa7c3a-2f49-4a5d-877b-c680270b6f01",
   "metadata": {},
   "source": [
    "Q6. Write a generator function in Python that yields the powers of 2 up to a given exponent.\n",
    "ANS:-"
   ]
  },
  {
   "cell_type": "code",
   "execution_count": 890,
   "id": "650acc8a-c824-473d-a6ea-f24e57b89bc4",
   "metadata": {},
   "outputs": [],
   "source": [
    "def powers_of_two(max_exponent):\n",
    "    for exp in range(max_exponent + 1):\n",
    "        yield 2 ** exp"
   ]
  },
  {
   "cell_type": "code",
   "execution_count": 891,
   "id": "5d3ebb0f-db37-42f7-83b5-6f79ecee53e2",
   "metadata": {},
   "outputs": [
    {
     "name": "stdout",
     "output_type": "stream",
     "text": [
      "1\n",
      "2\n",
      "4\n",
      "8\n",
      "16\n",
      "32\n"
     ]
    }
   ],
   "source": [
    "for power in powers_of_two(5):\n",
    "    print(power)"
   ]
  },
  {
   "cell_type": "markdown",
   "id": "48f615d8-b705-4c81-aa95-fe3d19b9a946",
   "metadata": {},
   "source": [
    "Q7.Implement a generator function that reads a file line by line and yields each line as a string.\n",
    "ANS:-"
   ]
  },
  {
   "cell_type": "code",
   "execution_count": 892,
   "id": "fbc40bb8-ae3a-4175-b1ac-12333feab883",
   "metadata": {},
   "outputs": [],
   "source": [
    "with open(\"example.txt\", \"w\") as f:\n",
    "    f.write(\"Line 1: Hello\\n\")\n",
    "    f.write(\"Line 2: This is a test.\\n\")\n",
    "    f.write(\"Line 3: Python is fun!\\n\")"
   ]
  },
  {
   "cell_type": "code",
   "execution_count": 893,
   "id": "192229db-e5ba-4e29-ac85-b4455f7ff782",
   "metadata": {},
   "outputs": [],
   "source": [
    "def read_file_line_by_line(filename):\n",
    "    with open(filename, 'r') as file:\n",
    "        for line in file:\n",
    "            yield line.rstrip('\\n') "
   ]
  },
  {
   "cell_type": "code",
   "execution_count": 894,
   "id": "149ddc43-23eb-4a0c-a372-22eae5c9fb87",
   "metadata": {},
   "outputs": [
    {
     "name": "stdout",
     "output_type": "stream",
     "text": [
      "Line 1: Hello\n",
      "Line 2: This is a test.\n",
      "Line 3: Python is fun!\n"
     ]
    }
   ],
   "source": [
    "for line in read_file_line_by_line(\"example.txt\"):\n",
    "    print(line)"
   ]
  },
  {
   "cell_type": "markdown",
   "id": "77c966ed-c9f3-4cdd-afbc-81cbabb52efb",
   "metadata": {},
   "source": [
    "Q8. Use a lambda function in Python to sort a list of tuples based on the second element of each tuple.\n",
    "ANS:-"
   ]
  },
  {
   "cell_type": "code",
   "execution_count": 895,
   "id": "768d9fa8-892d-4ffd-b352-80c2c81d357b",
   "metadata": {},
   "outputs": [],
   "source": [
    "data = [(1, 3), (2, 1), (4, 2), (5, 0)]"
   ]
  },
  {
   "cell_type": "code",
   "execution_count": 896,
   "id": "9750f296-ac48-41aa-b3f9-e527f180bab7",
   "metadata": {},
   "outputs": [
    {
     "name": "stdout",
     "output_type": "stream",
     "text": [
      "[(5, 0), (2, 1), (4, 2), (1, 3)]\n"
     ]
    }
   ],
   "source": [
    "sorted_data = sorted(data, key=lambda x: x[1])\n",
    "print(sorted_data)"
   ]
  },
  {
   "cell_type": "markdown",
   "id": "060e9add-7df8-4719-93e0-fcbe2fe30ae9",
   "metadata": {},
   "source": [
    "Q9. Write a Python program that uses `map()` to convert a list of temperatures from Celsius to Fahrenheit.\n",
    "ANS:-"
   ]
  },
  {
   "cell_type": "code",
   "execution_count": 897,
   "id": "62eab313-3847-4065-8cdb-acc3e8c8cf2b",
   "metadata": {},
   "outputs": [
    {
     "name": "stdout",
     "output_type": "stream",
     "text": [
      "Fahrenheit temperatures: [32.0, 68.0, 98.6, 212.0]\n"
     ]
    }
   ],
   "source": [
    "celsius_temps = [0, 20, 37, 100]\n",
    "fahrenheit_temps = list(map(lambda c: (c * 9/5) + 32, celsius_temps))\n",
    "print(\"Fahrenheit temperatures:\", fahrenheit_temps)"
   ]
  },
  {
   "cell_type": "raw",
   "id": "4875046f-2ef5-433f-8990-f7f7495e92f8",
   "metadata": {},
   "source": [
    "Q10. Create a Python program that uses `filter()` to remove all the vowels from a given string.\n",
    "ANS:-"
   ]
  },
  {
   "cell_type": "code",
   "execution_count": 902,
   "id": "bc5fc6f2-f83a-4190-b2e8-3076f40eb28d",
   "metadata": {},
   "outputs": [],
   "source": [
    "def remove_vowels(text):\n",
    "    vowels = 'aeiouAEIOU'\n",
    "    return ' '.join(filter(lambda char: char not in vowels, text))"
   ]
  },
  {
   "cell_type": "code",
   "execution_count": 903,
   "id": "6f0fc907-0e1d-4ba4-8981-9c969af3a5ec",
   "metadata": {},
   "outputs": [
    {
     "data": {
      "text/plain": [
       "'H l l   W r l d'"
      ]
     },
     "execution_count": 903,
     "metadata": {},
     "output_type": "execute_result"
    }
   ],
   "source": [
    "input_text = \"Hello World\"\n",
    "remove_vowels(input_text)"
   ]
  },
  {
   "cell_type": "raw",
   "id": "92ab8443-8bbf-4c37-b3a5-ebb1885fb00e",
   "metadata": {},
   "source": [
    "Q11.Write a Python program, which returns a list with 2-tuples. Each tuple consists of the order number and the\n",
    "product of the price per item and the quantity. The product should be increased by 10,- € if the value of the\n",
    "order is smaller than 100,00 €.\n",
    "\n",
    "Write a Python program using lambda and map.\n",
    "ANS:-"
   ]
  },
  {
   "cell_type": "code",
   "execution_count": 904,
   "id": "0a1acd2f-02f7-4d6a-82e4-a94a6ec519a1",
   "metadata": {},
   "outputs": [],
   "source": [
    "orders = [\n",
    "    (1, 45.0, 1),\n",
    "    (2, 60.0, 1),\n",
    "    (3, 30.0, 3),\n",
    "    (4, 100.0, 1),\n",
    "    (5, 20.0, 2)\n",
    "]"
   ]
  },
  {
   "cell_type": "code",
   "execution_count": 905,
   "id": "33f4bf17-4312-4d19-bf22-184ade1989c0",
   "metadata": {},
   "outputs": [],
   "source": [
    "result = list(map(\n",
    "    lambda x: (x[0], x[1] * x[2] + 10 if x[1] * x[2] < 100 else x[1] * x[2]),\n",
    "    orders\n",
    "))"
   ]
  },
  {
   "cell_type": "code",
   "execution_count": 906,
   "id": "ddffe657-28e6-4a50-a6f5-fcbf1f123f8b",
   "metadata": {},
   "outputs": [
    {
     "name": "stdout",
     "output_type": "stream",
     "text": [
      "[(1, 55.0), (2, 70.0), (3, 100.0), (4, 100.0), (5, 50.0)]\n"
     ]
    }
   ],
   "source": [
    "print(result)"
   ]
  }
 ],
 "metadata": {
  "kernelspec": {
   "display_name": "Python 3 (ipykernel)",
   "language": "python",
   "name": "python3"
  },
  "language_info": {
   "codemirror_mode": {
    "name": "ipython",
    "version": 3
   },
   "file_extension": ".py",
   "mimetype": "text/x-python",
   "name": "python",
   "nbconvert_exporter": "python",
   "pygments_lexer": "ipython3",
   "version": "3.13.4"
  }
 },
 "nbformat": 4,
 "nbformat_minor": 5
}
